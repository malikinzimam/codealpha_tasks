{
 "cells": [
  {
   "cell_type": "code",
   "execution_count": 2,
   "id": "7a598e87",
   "metadata": {},
   "outputs": [
    {
     "name": "stdout",
     "output_type": "stream",
     "text": [
      "Added 10 shares of AAPL.\n",
      "Added 5 shares of GOOGL.\n",
      "Fetching real-time stock prices...\n",
      "AAPL: 10 shares x $172.42 = $1724.20\n",
      "GOOGL: 5 shares x $144.70 = $723.50\n",
      "Total Portfolio Value: $2447.70\n",
      "Removed 5 shares of AAPL.\n",
      "Fetching real-time stock prices...\n",
      "AAPL: 5 shares x $172.42 = $862.10\n",
      "GOOGL: 5 shares x $144.70 = $723.50\n",
      "Total Portfolio Value: $1585.60\n"
     ]
    }
   ],
   "source": [
    "import yfinance as yf\n",
    "\n",
    "class StockPortfolio:\n",
    "    def __init__(self):\n",
    "        self.portfolio = {}\n",
    "\n",
    "    def add_stock(self, symbol, shares):\n",
    "        if symbol in self.portfolio:\n",
    "            self.portfolio[symbol] += shares\n",
    "        else:\n",
    "            self.portfolio[symbol] = shares\n",
    "        print(f\"Added {shares} shares of {symbol}.\")\n",
    "\n",
    "    def remove_stock(self, symbol, shares):\n",
    "        if symbol in self.portfolio:\n",
    "            if shares >= self.portfolio[symbol]:\n",
    "                del self.portfolio[symbol]\n",
    "                print(f\"Removed all shares of {symbol}.\")\n",
    "            else:\n",
    "                self.portfolio[symbol] -= shares\n",
    "                print(f\"Removed {shares} shares of {symbol}.\")\n",
    "        else:\n",
    "            print(f\"Stock {symbol} not found in portfolio.\")\n",
    "\n",
    "    def get_portfolio_value(self):\n",
    "        total_value = 0\n",
    "        print(\"Fetching real-time stock prices...\")\n",
    "        for symbol, shares in self.portfolio.items():\n",
    "            stock = yf.Ticker(symbol)\n",
    "            price = stock.history(period=\"1d\")[\"Close\"].iloc[-1]\n",
    "            stock_value = shares * price\n",
    "            total_value += stock_value\n",
    "            print(f\"{symbol}: {shares} shares x ${price:.2f} = ${stock_value:.2f}\")\n",
    "        print(f\"Total Portfolio Value: ${total_value:.2f}\")\n",
    "        return total_value\n",
    "\n",
    "# Example Usage\n",
    "if __name__ == \"__main__\":\n",
    "    portfolio = StockPortfolio()\n",
    "    portfolio.add_stock(\"AAPL\", 10)\n",
    "    portfolio.add_stock(\"GOOGL\", 5)\n",
    "    portfolio.get_portfolio_value()\n",
    "    portfolio.remove_stock(\"AAPL\", 5)\n",
    "    portfolio.get_portfolio_value()\n"
   ]
  }
 ],
 "metadata": {
  "kernelspec": {
   "display_name": "python_basics",
   "language": "python",
   "name": "python3"
  },
  "language_info": {
   "codemirror_mode": {
    "name": "ipython",
    "version": 3
   },
   "file_extension": ".py",
   "mimetype": "text/x-python",
   "name": "python",
   "nbconvert_exporter": "python",
   "pygments_lexer": "ipython3",
   "version": "3.10.16"
  }
 },
 "nbformat": 4,
 "nbformat_minor": 5
}
